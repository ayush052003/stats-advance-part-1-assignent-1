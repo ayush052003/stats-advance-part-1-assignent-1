{
 "cells": [
  {
   "cell_type": "markdown",
   "id": "19596cd2-1321-4745-a3bb-fcda2e3c83dd",
   "metadata": {},
   "source": [
    "STAISTICS ADVANCE ASSIGNMENT - 1"
   ]
  },
  {
   "cell_type": "code",
   "execution_count": 1,
   "id": "6686daaa-4f42-4929-bf80-ac7ca3aec7d6",
   "metadata": {},
   "outputs": [
    {
     "data": {
      "text/plain": [
       "'Q1. What is the Probability density function?'"
      ]
     },
     "execution_count": 1,
     "metadata": {},
     "output_type": "execute_result"
    }
   ],
   "source": [
    "'''Q1. What is the Probability density function?'''"
   ]
  },
  {
   "cell_type": "code",
   "execution_count": 3,
   "id": "8b825613-fa1a-4d8b-91d4-814cb85feb58",
   "metadata": {},
   "outputs": [
    {
     "data": {
      "text/plain": [
       "'In the case of a continuous random variable, the probability taken by X on some given value x is always 0. In this case, if we find P(X = x), it does \\nnot work. Instead of this, we must calculate the probability of X lying in an interval (a, b). Now, we have to figure it for P(a< X< b), and we can calculate \\nthis using the formula of PDF.'"
      ]
     },
     "execution_count": 3,
     "metadata": {},
     "output_type": "execute_result"
    }
   ],
   "source": [
    "'''The Probability Density Function(PDF) defines the probability function representing the density of a continuous random variable lying between a specific\n",
    "range of values. In other words, the probability density function produces the likelihood of values of the continuous random variable. Sometimes it is\n",
    "also called a probability distribution function or just a probability function. However, this function is stated in many other sources as the function \n",
    "over a broad set of values. Often it is referred to as cumulative distribution function or sometimes as probability mass function(PMF). However, the actual\n",
    "truth is PDF (probability density function ) is defined for continuous random variables, whereas PMF (probability mass function) is defined for discrete\n",
    "random variables.'''\n",
    "\n",
    "'''In the case of a continuous random variable, the probability taken by X on some given value x is always 0. In this case, if we find P(X = x), it does \n",
    "not work. Instead of this, we must calculate the probability of X lying in an interval (a, b). Now, we have to figure it for P(a< X< b), and we can calculate \n",
    "this using the formula of PDF.'''"
   ]
  },
  {
   "cell_type": "code",
   "execution_count": 4,
   "id": "034e4f40-4437-4315-a2d0-b2319ec4e262",
   "metadata": {},
   "outputs": [
    {
     "data": {
      "text/plain": [
       "'Q2. What are the types of Probability distribution?'"
      ]
     },
     "execution_count": 4,
     "metadata": {},
     "output_type": "execute_result"
    }
   ],
   "source": [
    "'''Q2. What are the types of Probability distribution?'''"
   ]
  },
  {
   "cell_type": "code",
   "execution_count": 5,
   "id": "1ba8e664-69f2-4667-a4cd-69abbf99161a",
   "metadata": {},
   "outputs": [],
   "source": [
    "# There are various types of Probablity Distributions that are given below...\n",
    "\n",
    "# 1. Normal/Gaussian Distribution.(pdf)\n",
    "# 2. Bernoulli Distribution.(pmf)\n",
    "# 3. Uniform Distribution.\n",
    "# 4. Log Normal Distribution.(pdf)\n",
    "# 5. Poisson Distribution.(pmf)\n",
    "# 6. Power law Distribution.(pdf)\n",
    "# 7. Binomial Distribution.(pmf)"
   ]
  },
  {
   "cell_type": "code",
   "execution_count": 6,
   "id": "675b5201-2c3b-45a5-a135-ab975a7785d2",
   "metadata": {},
   "outputs": [
    {
     "data": {
      "text/plain": [
       "'Q3. Write a Python function to calculate the probability density function of a normal distribution with \\ngiven mean and standard deviation at a given point.'"
      ]
     },
     "execution_count": 6,
     "metadata": {},
     "output_type": "execute_result"
    }
   ],
   "source": [
    "'''Q3. Write a Python function to calculate the probability density function of a normal distribution with \n",
    "given mean and standard deviation at a given point.'''"
   ]
  },
  {
   "cell_type": "code",
   "execution_count": 8,
   "id": "91c72e3d-5e6d-41b8-9373-f24317085b9e",
   "metadata": {},
   "outputs": [
    {
     "name": "stdout",
     "output_type": "stream",
     "text": [
      "0.3989422804014327\n"
     ]
    }
   ],
   "source": [
    "# Here is the python program for the given question...to calculate the probability density function of a normal distribution\n",
    "\n",
    "\n",
    "import math\n",
    "\n",
    "def normal_pdf(x, mean, std_dev):\n",
    "    return (1.0 / (std_dev * math.sqrt(2 * math.pi))) * math.exp(-0.5 * ((x - mean) / std_dev) ** 2)\n",
    "\n",
    "print(normal_pdf(0, 0, 1))\n"
   ]
  },
  {
   "cell_type": "code",
   "execution_count": 9,
   "id": "e655daa5-ccfa-457b-aea8-4247e681d716",
   "metadata": {},
   "outputs": [
    {
     "data": {
      "text/plain": [
       "'Q4. What are the properties of Binomial distribution? Give two examples of events where binomial \\ndistribution can be applied'"
      ]
     },
     "execution_count": 9,
     "metadata": {},
     "output_type": "execute_result"
    }
   ],
   "source": [
    "'''Q4. What are the properties of Binomial distribution? Give two examples of events where binomial \n",
    "distribution can be applied'''"
   ]
  },
  {
   "cell_type": "code",
   "execution_count": 11,
   "id": "d6e5e723-50b6-4ad4-b023-c07b3c48f808",
   "metadata": {},
   "outputs": [
    {
     "data": {
      "text/plain": [
       "' There are some of the properties of the Binomial Distribution are...\\n\\n# 1.There are only two distinct possible outcomes: success or failure, true or false, yes or no.\\n# 2.There is a fixed number of ‘n’ times repeated trials in a given experiment.\\n# 3.The probability of success or failure remains constant for each trial.\\n# 4.The trials are independent, meaning the outcome of one trial does not affect the outcome of another trial.\\nExamples of events where the Binomial distribution can be applied are:\\n\\nMedical Trials: Medical professionals use the binomial distribution to model the probability that a certain number of patients will experience side effects\\nas a result of taking new medications3. For example, if it is known that 5% of adults who take a certain medication experience negative side effects, \\nwe can use a Binomial Distribution to find the probability that more than a certain number of patients in a random sample of 100 will experience negative\\nside effects.\\n\\nBank Transactions: Banks use the binomial distribution to model the probability that a certain number of credit card transactions are fraudulent3. For\\nexample, if it is known that 2% of all credit card transactions in a certain region are fraudulent, we can use a Binomial Distribution to find the probability\\nthat more than a certain number of fraudulent transactions occur in a given day.'"
      ]
     },
     "execution_count": 11,
     "metadata": {},
     "output_type": "execute_result"
    }
   ],
   "source": [
    "''' There are some of the properties of the Binomial Distribution are...\n",
    "\n",
    "# 1.There are only two distinct possible outcomes: success or failure, true or false, yes or no.\n",
    "# 2.There is a fixed number of ‘n’ times repeated trials in a given experiment.\n",
    "# 3.The probability of success or failure remains constant for each trial.\n",
    "# 4.The trials are independent, meaning the outcome of one trial does not affect the outcome of another trial.\n",
    "Examples of events where the Binomial distribution can be applied are:\n",
    "\n",
    "Medical Trials: Medical professionals use the binomial distribution to model the probability that a certain number of patients will experience side effects\n",
    "as a result of taking new medications3. For example, if it is known that 5% of adults who take a certain medication experience negative side effects, \n",
    "we can use a Binomial Distribution to find the probability that more than a certain number of patients in a random sample of 100 will experience negative\n",
    "side effects.\n",
    "\n",
    "Bank Transactions: Banks use the binomial distribution to model the probability that a certain number of credit card transactions are fraudulent3. For\n",
    "example, if it is known that 2% of all credit card transactions in a certain region are fraudulent, we can use a Binomial Distribution to find the probability\n",
    "that more than a certain number of fraudulent transactions occur in a given day.'''"
   ]
  },
  {
   "cell_type": "code",
   "execution_count": 12,
   "id": "6fac94cc-15d4-4794-ab51-047198d1c0b1",
   "metadata": {},
   "outputs": [
    {
     "data": {
      "text/plain": [
       "'Q5. Generate a random sample of size 1000 from a binomial distribution with probability of success 0.4 \\nand plot a histogram of the results using matplotlib'"
      ]
     },
     "execution_count": 12,
     "metadata": {},
     "output_type": "execute_result"
    }
   ],
   "source": [
    "'''Q5. Generate a random sample of size 1000 from a binomial distribution with probability of success 0.4 \n",
    "and plot a histogram of the results using matplotlib'''"
   ]
  },
  {
   "cell_type": "code",
   "execution_count": 14,
   "id": "a07016b6-07ce-4c4b-afb0-e39752eb9bbf",
   "metadata": {},
   "outputs": [
    {
     "data": {
      "image/png": "[encoded data removed]",
      "text/plain": [
       "<Figure size 640x480 with 1 Axes>"
      ]
     },
     "metadata": {},
     "output_type": "display_data"
    }
   ],
   "source": [
    "# Here is the program for the given question .....\n",
    "# given... Size = 1000 , Probablity of success = 0.4\n",
    "import numpy as np\n",
    "import matplotlib.pyplot as plt\n",
    "\n",
    "n = 1 \n",
    "p = 0.4 \n",
    "size = 1000 \n",
    "\n",
    "sample = np.random.binomial(n, p, size)\n",
    "\n",
    "plt.hist(sample, bins=np.arange(-0.5, n + 1, 1), edgecolor='black')\n",
    "plt.title('Histogram of Binomial Distribution')\n",
    "plt.xlabel('Value')\n",
    "plt.ylabel('Frequency')\n",
    "plt.show()"
   ]
  },
  {
   "cell_type": "code",
   "execution_count": 15,
   "id": "cdfbfdbb-2917-415c-9667-bd1fd5cda237",
   "metadata": {},
   "outputs": [
    {
     "data": {
      "text/plain": [
       "' Write a Python function to calculate the cumulative distribution function of a Poisson distribution \\nwith given mean at a given point.'"
      ]
     },
     "execution_count": 15,
     "metadata": {},
     "output_type": "execute_result"
    }
   ],
   "source": [
    "''' Write a Python function to calculate the cumulative distribution function of a Poisson distribution \n",
    "with given mean at a given point.'''"
   ]
  },
  {
   "cell_type": "code",
   "execution_count": 16,
   "id": "32dcdb14-f5d3-4bf2-9658-da4bab04e658",
   "metadata": {},
   "outputs": [
    {
     "name": "stdout",
     "output_type": "stream",
     "text": [
      "0.857123460498547\n"
     ]
    }
   ],
   "source": [
    "# Here is the required program to calculate the cumulative distribution function of a Poisson distribution...\n",
    "\n",
    "from scipy.stats import poisson\n",
    "\n",
    "def poisson_cdf(k, m):\n",
    "   \n",
    "    return poisson.cdf(k, m)\n",
    "\n",
    "# Example usage:\n",
    "print(poisson_cdf(3, 2))"
   ]
  },
  {
   "cell_type": "code",
   "execution_count": 17,
   "id": "3006dcab-ad97-4ecb-9e53-90ef39f25872",
   "metadata": {},
   "outputs": [
    {
     "data": {
      "text/plain": [
       "'Q7. How Binomial distribution different from Poisson distribution?'"
      ]
     },
     "execution_count": 17,
     "metadata": {},
     "output_type": "execute_result"
    }
   ],
   "source": [
    "'''Q7. How Binomial distribution different from Poisson distribution?'''"
   ]
  },
  {
   "cell_type": "code",
   "execution_count": 18,
   "id": "c7b4e2eb-7aa2-454b-8e97-9c5d5f5aa431",
   "metadata": {},
   "outputs": [
    {
     "data": {
      "text/plain": [
       "'Examples of each include:\\n\\na. Binomial Distribution: Tossing a coin a certain number of times and counting the number of heads (successes).\\n\\nb. Poisson Distribution: Counting the number of cars that pass through a traffic signal in a given period of time.'"
      ]
     },
     "execution_count": 18,
     "metadata": {},
     "output_type": "execute_result"
    }
   ],
   "source": [
    "'''The Binomial and Poisson distributions are both discrete probability distributions, but they have different characteristics and are used in different\n",
    "types of experiments:'''\n",
    "\n",
    "# 1.Number of Outcomes: The Binomial distribution has two possible outcomes (success or failure), while the Poisson distribution can have an unlimited\n",
    "# number of outcomes.\n",
    "\n",
    "# 2.Number of Trials: In a Binomial distribution, there is a fixed number of trials, whereas in a Poisson distribution, there could be any number of events\n",
    "# that occur during a certain time interval.\n",
    "\n",
    "# 3.Probability of Success: In a Binomial distribution, the probability of success remains constant across trials. In contrast, the Poisson distribution\n",
    "# models events with an infinitesimal chance of success1.\n",
    "\n",
    "# 4.Mean and Variance: For a Binomial distribution, the mean is usually different from the variance. However, for a Poisson distribution, the mean is equal to the variance1.\n",
    "\n",
    "'''Examples of each include:\n",
    "\n",
    "a. Binomial Distribution: Tossing a coin a certain number of times and counting the number of heads (successes).\n",
    "\n",
    "b. Poisson Distribution: Counting the number of cars that pass through a traffic signal in a given period of time.'''"
   ]
  },
  {
   "cell_type": "code",
   "execution_count": 19,
   "id": "26c29ceb-14f8-43a3-8dd1-37d44cd8daf1",
   "metadata": {},
   "outputs": [
    {
     "data": {
      "text/plain": [
       "'Q8. Generate a random sample of size 1000 from a Poisson distribution with mean 5 and calculate the \\nsample mean and variance.'"
      ]
     },
     "execution_count": 19,
     "metadata": {},
     "output_type": "execute_result"
    }
   ],
   "source": [
    "'''Q8. Generate a random sample of size 1000 from a Poisson distribution with mean 5 and calculate the \n",
    "sample mean and variance.'''"
   ]
  },
  {
   "cell_type": "code",
   "execution_count": 22,
   "id": "169ea264-1045-44dd-8652-8e25bd9bd4ab",
   "metadata": {},
   "outputs": [
    {
     "name": "stdout",
     "output_type": "stream",
     "text": [
      "Sample Mean: 4.956\n",
      "Sample Variance: 5.090064\n"
     ]
    }
   ],
   "source": [
    "# Here is the python program to calculate the sample mean and variance for the given data...\n",
    "# given ...Size = 1000 , mean = 5\n",
    "\n",
    "\n",
    "import numpy as np\n",
    "\n",
    "m = 5  \n",
    "size = 1000  \n",
    "\n",
    "sample = np.random.poisson(m, size)\n",
    "\n",
    "sample_mean = np.mean(sample)\n",
    "sample_variance = np.var(sample)\n",
    "\n",
    "print(f'Sample Mean: {sample_mean}')\n",
    "print(f'Sample Variance: {sample_variance}')"
   ]
  },
  {
   "cell_type": "code",
   "execution_count": 23,
   "id": "f137a636-3629-424b-ac68-4ad4790973ab",
   "metadata": {},
   "outputs": [
    {
     "data": {
      "text/plain": [
       "'Q9. How mean and variance are related in Binomial distribution and Poisson distribution?'"
      ]
     },
     "execution_count": 23,
     "metadata": {},
     "output_type": "execute_result"
    }
   ],
   "source": [
    "'''Q9. How mean and variance are related in Binomial distribution and Poisson distribution?'''"
   ]
  },
  {
   "cell_type": "code",
   "execution_count": 24,
   "id": "96a85219-2c78-4ea4-ae03-4790292ff99b",
   "metadata": {},
   "outputs": [
    {
     "data": {
      "text/plain": [
       "\"In both the Binomial and Poisson distributions, the mean and variance have specific relationships:\\n\\nBinomial Distribution: In a Binomial distribution with ‘n’ trials and ‘p’ as the probability of success, the mean (μ) is np and the variance (σ²) is\\nnpq, where ‘q’ is the probability of failure (1-p).\\n\\nPoisson Distribution: In a Poisson distribution with ‘λ’ as the average rate of success, both the mean (E(X)) and the variance (V(X)) are equal to 'λ’.\\n\\nThese relationships are derived from the mathematical properties of these distributions and are fundamental to their definitions. They also provide a way to\\ncharacterize and understand these distributions in terms of their central tendency (mean) and dispersion (variance).\""
      ]
     },
     "execution_count": 24,
     "metadata": {},
     "output_type": "execute_result"
    }
   ],
   "source": [
    "'''In both the Binomial and Poisson distributions, the mean and variance have specific relationships:\n",
    "\n",
    "Binomial Distribution: In a Binomial distribution with ‘n’ trials and ‘p’ as the probability of success, the mean (μ) is np and the variance (σ²) is\n",
    "npq, where ‘q’ is the probability of failure (1-p).\n",
    "\n",
    "Poisson Distribution: In a Poisson distribution with ‘λ’ as the average rate of success, both the mean (E(X)) and the variance (V(X)) are equal to 'λ’.\n",
    "\n",
    "These relationships are derived from the mathematical properties of these distributions and are fundamental to their definitions. They also provide a way to\n",
    "characterize and understand these distributions in terms of their central tendency (mean) and dispersion (variance).'''"
   ]
  },
  {
   "cell_type": "code",
   "execution_count": 25,
   "id": "134640df-1294-40ac-aba6-a4a9c72c239d",
   "metadata": {},
   "outputs": [
    {
     "data": {
      "text/plain": [
       "'Q10. In normal distribution with respect to mean position, where does the least frequent data appear?'"
      ]
     },
     "execution_count": 25,
     "metadata": {},
     "output_type": "execute_result"
    }
   ],
   "source": [
    "'''Q10. In normal distribution with respect to mean position, where does the least frequent data appear?'''"
   ]
  },
  {
   "cell_type": "code",
   "execution_count": null,
   "id": "04a6bf80-4956-4fd4-9649-c5f2739b0507",
   "metadata": {},
   "outputs": [],
   "source": [
    "In a normal distribution, the least frequent data appears in the tails of the distribution, which are the areas that are furthest away from the mean123. This is because a normal distribution is symmetric and most of the observed data is clustered near the mean, while the data become less frequent when farther away from the mean3.\n",
    "\n",
    "Specifically, for a normal distribution:\n",
    "\n",
    "Around 68% of values are within 1 standard deviation from the mean4.\n",
    "Around 95% of values are within 2 standard deviations from the mean4.\n",
    "Around 99.7% of values are within 3 standard deviations from the mean4.\n",
    "This means that data points that are more than 3 standard deviations away from the mean are very rare, occurring only about 0.3% of the time"
   ]
  }
 ],
 "metadata": {
  "kernelspec": {
   "display_name": "Python 3 (ipykernel)",
   "language": "python",
   "name": "python3"
  },
  "language_info": {
   "codemirror_mode": {
    "name": "ipython",
    "version": 3
   },
   "file_extension": ".py",
   "mimetype": "text/x-python",
   "name": "python",
   "nbconvert_exporter": "python",
   "pygments_lexer": "ipython3",
   "version": "3.10.8"
  }
 },
 "nbformat": 4,
 "nbformat_minor": 5
}
